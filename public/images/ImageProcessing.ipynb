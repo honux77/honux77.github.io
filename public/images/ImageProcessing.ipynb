{
 "cells": [
  {
   "cell_type": "markdown",
   "metadata": {},
   "source": [
    "## List and Rename"
   ]
  },
  {
   "cell_type": "code",
   "execution_count": 1,
   "metadata": {},
   "outputs": [],
   "source": [
    "import os"
   ]
  },
  {
   "cell_type": "code",
   "execution_count": 2,
   "metadata": {},
   "outputs": [],
   "source": [
    "files = os.listdir()"
   ]
  },
  {
   "cell_type": "code",
   "execution_count": 3,
   "metadata": {},
   "outputs": [
    {
     "data": {
      "text/plain": [
       "True"
      ]
     },
     "execution_count": 3,
     "metadata": {},
     "output_type": "execute_result"
    }
   ],
   "source": [
    "\"h\" in \"hello\""
   ]
  },
  {
   "cell_type": "code",
   "execution_count": 4,
   "metadata": {},
   "outputs": [],
   "source": [
    "images = [f for f in files if \"otaku\" in f]"
   ]
  },
  {
   "cell_type": "code",
   "execution_count": 5,
   "metadata": {},
   "outputs": [
    {
     "data": {
      "text/plain": [
       "['otaku0.jpg', 'otaku1.jpg', 'otaku2.jpg']"
      ]
     },
     "execution_count": 5,
     "metadata": {},
     "output_type": "execute_result"
    }
   ],
   "source": [
    "images"
   ]
  },
  {
   "cell_type": "code",
   "execution_count": 19,
   "metadata": {},
   "outputs": [
    {
     "name": "stdout",
     "output_type": "stream",
     "text": [
      "LastOfUs-001.jog\n"
     ]
    }
   ],
   "source": [
    "prefix = \"LastOfUs\"\n",
    "ext = \"jpg\"\n",
    "count = 1\n",
    "print(\"{}-{:03d}.{}\".format(prefix, count, ext))"
   ]
  },
  {
   "cell_type": "code",
   "execution_count": 21,
   "metadata": {},
   "outputs": [],
   "source": [
    "prefix = \"LastOfUs\"\n",
    "ext = \"jpg\"\n",
    "count = 1\n",
    "for i in images:\n",
    "    nf = \"{}-{:03d}.{}\".format(prefix, count, ext)\n",
    "    # os.rename(i, nf)\n",
    "    print(nf)\n",
    "    count += 1"
   ]
  },
  {
   "cell_type": "code",
   "execution_count": 22,
   "metadata": {},
   "outputs": [
    {
     "name": "stdout",
     "output_type": "stream",
     "text": [
      "['LastOfUs-001.jog', 'LastOfUs-002.jog', 'LastOfUs-003.jog', 'LastOfUs-004.jog', 'LastOfUs-005.jog', 'LastOfUs-006.jog', 'LastOfUs-007.jog', 'LastOfUs-008.jog', 'LastOfUs-009.jog', 'LastOfUs-010.jog', 'LastOfUs-011.jog', 'LastOfUs-012.jog', 'LastOfUs-013.jog', 'LastOfUs-014.jog', 'LastOfUs-015.jog', 'LastOfUs-016.jog', 'LastOfUs-017.jog', 'LastOfUs-018.jog', 'LastOfUs-019.jog', 'LastOfUs-020.jog', 'LastOfUs-021.jog', 'LastOfUs-022.jog', 'LastOfUs-023.jog', 'LastOfUs-024.jog', 'LastOfUs-025.jog']\n"
     ]
    }
   ],
   "source": [
    "images = [f for f in os.listdir() if prefix in f]\n",
    "print(images)"
   ]
  },
  {
   "cell_type": "code",
   "execution_count": 25,
   "metadata": {},
   "outputs": [
    {
     "name": "stdout",
     "output_type": "stream",
     "text": [
      "LastOfUs-001.\n",
      "LastOfUs-002.\n",
      "LastOfUs-003.\n",
      "LastOfUs-004.\n",
      "LastOfUs-005.\n",
      "LastOfUs-006.\n",
      "LastOfUs-007.\n",
      "LastOfUs-008.\n",
      "LastOfUs-009.\n",
      "LastOfUs-010.\n",
      "LastOfUs-011.\n",
      "LastOfUs-012.\n",
      "LastOfUs-013.\n",
      "LastOfUs-014.\n",
      "LastOfUs-015.\n",
      "LastOfUs-016.\n",
      "LastOfUs-017.\n",
      "LastOfUs-018.\n",
      "LastOfUs-019.\n",
      "LastOfUs-020.\n",
      "LastOfUs-021.\n",
      "LastOfUs-022.\n",
      "LastOfUs-023.\n",
      "LastOfUs-024.\n",
      "LastOfUs-025.\n"
     ]
    }
   ],
   "source": [
    "for i in images:\n",
    "    f = i[:-3]\n",
    "    print(f)\n",
    "    #os.rename(i, f+\".jpg\")"
   ]
  },
  {
   "cell_type": "markdown",
   "metadata": {},
   "source": [
    "## resize"
   ]
  },
  {
   "cell_type": "code",
   "execution_count": null,
   "metadata": {},
   "outputs": [],
   "source": []
  }
 ],
 "metadata": {
  "kernelspec": {
   "display_name": "Python 3",
   "language": "python",
   "name": "python3"
  },
  "language_info": {
   "codemirror_mode": {
    "name": "ipython",
    "version": 3
   },
   "file_extension": ".py",
   "mimetype": "text/x-python",
   "name": "python",
   "nbconvert_exporter": "python",
   "pygments_lexer": "ipython3",
   "version": "3.9.2"
  }
 },
 "nbformat": 4,
 "nbformat_minor": 4
}
